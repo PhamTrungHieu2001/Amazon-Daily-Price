{
 "cells": [
  {
   "cell_type": "markdown",
   "id": "ba966417",
   "metadata": {},
   "source": [
    "# Import libraries"
   ]
  },
  {
   "cell_type": "code",
   "execution_count": 2,
   "id": "5f4b6543",
   "metadata": {},
   "outputs": [],
   "source": [
    "from bs4 import BeautifulSoup\n",
    "import requests\n",
    "import smtplib"
   ]
  },
  {
   "cell_type": "markdown",
   "id": "eb74f13f",
   "metadata": {},
   "source": [
    "# Scrape data from Amazon"
   ]
  },
  {
   "cell_type": "code",
   "execution_count": 3,
   "id": "00a24b6d",
   "metadata": {},
   "outputs": [],
   "source": [
    "url = 'https://www.amazon.com/adidas-Mens-Soccer-Arsenal-Jersey/dp/B0CCSLSMSH/ref=sr_1_2?crid=YQ8TUTEP7GE0&dib=eyJ2IjoiMSJ9.ZSOLPrQd-Qch2QOHDiwnWuCwo5jpzQWEAgXfulYSW-YWb2HlIA8yL5lhYJ1W6XwkQdwZuMDIvUu7yI6OeUM5MKvu7j21EW7CZYjY6vGvbCpClhntIyDYVvNguZBYz3k-z1bq116w1h8F1IN6ivz67GezFVL_GojG-Lh9EViPTS3OXId5GRqTgVuqpPwAF7Mf7U61yEpxNVDgKbOuXO1CUnroF8fybeVGYlOK8U5JKi8HvG3RdI4t6nmzkIPm-xyNN229mFeUp2O682FCiUESF1IEQJrQZOHuyqWZwYjfiQ0.zFM3mBkNuZBswnxsbbImHUPeqkvz-J6t9iviE86AqxE&dib_tag=se&keywords=arsenal%2Bjersey&qid=1716433821&sprefix=arsenal%2Caps%2C431&sr=8-2&th=1'\n",
    "\n",
    "headers = {\"User-Agent\": \"Mozilla/5.0 (Windows NT 10.0; Win64; x64) AppleWebKit/537.36 (KHTML, like Gecko) Chrome/124.0.0.0 Safari/537.36\", \"Accept-Encoding\":\"gzip, deflate\", \"Accept\":\"text/html,application/xhtml+xml,application/xml;q=0.9,*/*;q=0.8\", \"DNT\":\"1\",\"Connection\":\"close\", \"Upgrade-Insecure-Requests\":\"1\"}\n",
    "\n",
    "page = requests.get(url, headers = headers)\n",
    "\n",
    "soup = BeautifulSoup(page.content, 'html.parser')"
   ]
  },
  {
   "cell_type": "code",
   "execution_count": 4,
   "id": "b602af2c",
   "metadata": {},
   "outputs": [
    {
     "data": {
      "text/plain": [
       "\"        adidas Men's Soccer Arsenal 23/24 Home Jersey - Lightning Bolts and Gold Details, AEROREADY Technology       \""
      ]
     },
     "execution_count": 4,
     "metadata": {},
     "output_type": "execute_result"
    }
   ],
   "source": [
    "# get the title of the product\n",
    "title = soup.find(id = 'productTitle').get_text()\n",
    "title"
   ]
  },
  {
   "cell_type": "code",
   "execution_count": 5,
   "id": "dadab408",
   "metadata": {},
   "outputs": [
    {
     "data": {
      "text/plain": [
       "'$66.28'"
      ]
     },
     "execution_count": 5,
     "metadata": {},
     "output_type": "execute_result"
    }
   ],
   "source": [
    "# price of the product\n",
    "price = soup.find('span', {'class' : 'a-offscreen'}).get_text()\n",
    "price"
   ]
  },
  {
   "cell_type": "code",
   "execution_count": 6,
   "id": "7d7c2c94",
   "metadata": {},
   "outputs": [
    {
     "name": "stdout",
     "output_type": "stream",
     "text": [
      "2024-05-24\n"
     ]
    }
   ],
   "source": [
    "import datetime\n",
    "\n",
    "today = datetime.date.today()\n",
    "\n",
    "print(today)"
   ]
  },
  {
   "cell_type": "markdown",
   "id": "bd96320f",
   "metadata": {},
   "source": [
    "# Clean data"
   ]
  },
  {
   "cell_type": "code",
   "execution_count": 7,
   "id": "b236fb66",
   "metadata": {},
   "outputs": [
    {
     "name": "stdout",
     "output_type": "stream",
     "text": [
      "adidas Men's Soccer Arsenal 23/24 Home Jersey - Lightning Bolts and Gold Details, AEROREADY Technology\n",
      "66.28\n"
     ]
    }
   ],
   "source": [
    "# remove whitespaces at the beginning and the end\n",
    "title = title.strip()\n",
    "\n",
    "# remove '$' symbol\n",
    "price = price[1:]\n",
    "\n",
    "print(title)\n",
    "print(price)"
   ]
  },
  {
   "cell_type": "markdown",
   "id": "e4f0b3dc",
   "metadata": {},
   "source": [
    "# Insert data into a CSV file"
   ]
  },
  {
   "cell_type": "code",
   "execution_count": 8,
   "id": "adf6668b",
   "metadata": {},
   "outputs": [],
   "source": [
    "# create a csv -> insert data -> create a process to insert more data\n",
    "import csv\n",
    "\n",
    "header = ['Product', 'Price', 'Date']\n",
    "data = [title, price, today]\n",
    "\n",
    "# 'w' = write\n",
    "with open('Amazon.csv', 'w', newline='') as file:\n",
    "    writer = csv.writer(file)\n",
    "    \n",
    "    writer.writerow(header)\n",
    "    writer.writerow(data)"
   ]
  },
  {
   "cell_type": "code",
   "execution_count": 9,
   "id": "da112f9c",
   "metadata": {},
   "outputs": [
    {
     "data": {
      "text/html": [
       "<div>\n",
       "<style scoped>\n",
       "    .dataframe tbody tr th:only-of-type {\n",
       "        vertical-align: middle;\n",
       "    }\n",
       "\n",
       "    .dataframe tbody tr th {\n",
       "        vertical-align: top;\n",
       "    }\n",
       "\n",
       "    .dataframe thead th {\n",
       "        text-align: right;\n",
       "    }\n",
       "</style>\n",
       "<table border=\"1\" class=\"dataframe\">\n",
       "  <thead>\n",
       "    <tr style=\"text-align: right;\">\n",
       "      <th></th>\n",
       "      <th>Product</th>\n",
       "      <th>Price</th>\n",
       "      <th>Date</th>\n",
       "    </tr>\n",
       "  </thead>\n",
       "  <tbody>\n",
       "    <tr>\n",
       "      <th>0</th>\n",
       "      <td>adidas Men's Soccer Arsenal 23/24 Home Jersey ...</td>\n",
       "      <td>66.28</td>\n",
       "      <td>2024-05-24</td>\n",
       "    </tr>\n",
       "  </tbody>\n",
       "</table>\n",
       "</div>"
      ],
      "text/plain": [
       "                                             Product  Price        Date\n",
       "0  adidas Men's Soccer Arsenal 23/24 Home Jersey ...  66.28  2024-05-24"
      ]
     },
     "execution_count": 9,
     "metadata": {},
     "output_type": "execute_result"
    }
   ],
   "source": [
    "import pandas as pd\n",
    "df = pd.read_csv(r\"C:\\Users\\HP\\Amazon.csv\")\n",
    "df"
   ]
  },
  {
   "cell_type": "markdown",
   "id": "50d18ac1",
   "metadata": {},
   "source": [
    "# Update price automatically everyday"
   ]
  },
  {
   "cell_type": "code",
   "execution_count": 10,
   "id": "3b05ccc2",
   "metadata": {},
   "outputs": [],
   "source": [
    "import schedule\n",
    "import time\n",
    "# add header to the file\n",
    "with open('DailyPrice.csv', 'w', newline='') as file:\n",
    "    writer = csv.writer(file)\n",
    "    writer.writerow(header)\n",
    "    \n",
    "def update_price():\n",
    "    # update price and date\n",
    "    price = soup.find('span', {'class' : 'a-offscreen'}).get_text()\n",
    "    today = datetime.date.today()\n",
    "    data = [title, price, today]\n",
    "    \n",
    "    # append new data to the file\n",
    "    with open('DailyPrice.csv', 'a', newline='') as file:\n",
    "        writer = csv.writer(file)\n",
    "        writer.writerow(data)"
   ]
  },
  {
   "cell_type": "code",
   "execution_count": null,
   "id": "e7a58547",
   "metadata": {},
   "outputs": [],
   "source": [
    "while True:\n",
    "    update_price()\n",
    "    time.sleep(86400) # wait a day"
   ]
  },
  {
   "cell_type": "markdown",
   "id": "2ba871ad",
   "metadata": {},
   "source": [
    "# Send emails"
   ]
  },
  {
   "cell_type": "code",
   "execution_count": null,
   "id": "e38c927c",
   "metadata": {},
   "outputs": [],
   "source": [
    "import smtplib\n",
    "from email.mime.text import MIMEText"
   ]
  },
  {
   "cell_type": "code",
   "execution_count": null,
   "id": "249e9c02",
   "metadata": {},
   "outputs": [],
   "source": [
    "# if price < 50 => send email\n",
    "\n",
    "\n"
   ]
  },
  {
   "cell_type": "code",
   "execution_count": null,
   "id": "859ef4b8",
   "metadata": {},
   "outputs": [],
   "source": []
  },
  {
   "cell_type": "code",
   "execution_count": null,
   "id": "fcd4f563",
   "metadata": {},
   "outputs": [],
   "source": []
  },
  {
   "cell_type": "code",
   "execution_count": null,
   "id": "6aecfb88",
   "metadata": {},
   "outputs": [],
   "source": []
  }
 ],
 "metadata": {
  "kernelspec": {
   "display_name": "Python 3 (ipykernel)",
   "language": "python",
   "name": "python3"
  },
  "language_info": {
   "codemirror_mode": {
    "name": "ipython",
    "version": 3
   },
   "file_extension": ".py",
   "mimetype": "text/x-python",
   "name": "python",
   "nbconvert_exporter": "python",
   "pygments_lexer": "ipython3",
   "version": "3.11.7"
  }
 },
 "nbformat": 4,
 "nbformat_minor": 5
}
